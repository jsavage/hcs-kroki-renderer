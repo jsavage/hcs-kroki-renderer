{
 "cells": [
  {
   "cell_type": "code",
   "execution_count": null,
   "metadata": {},
   "source": [
    "from IPython.display import display, HTML\n",
    "import requests\n",
    "import base64\n",
    "\n",
    "diagram = '''graph TD\n",
    "    A[Start] -->|Test| B[End]'''\n",
    "\n",
    "encoded = base64.b64encode(diagram.encode('utf-8')).decode('utf-8')\n",
    "url = f'https://kroki.io/mermaid/svg/{encoded}'\n",
    "display(HTML(f'<img src=\"{url}\"/>'))"]
  }
 ],
 "metadata": {
  "kernelspec": {
   "display_name": "Python (Pyodide)",
   "language": "python",
   "name": "python"
  }
 }
}
